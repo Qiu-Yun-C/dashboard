{
 "cells": [
  {
   "cell_type": "markdown",
   "id": "03d41f64-a076-4826-bf98-b206df351944",
   "metadata": {},
   "source": [
    "# COVID-19 Sectional Data Dashboard"
   ]
  },
  {
   "cell_type": "markdown",
   "id": "cb3ad124-4de7-4b0c-a902-94c356293496",
   "metadata": {},
   "source": [
    "This Dashboard shows three data: the number of patients who had been diagnosed with COVID-19 and had been hospitalized(admission in hospital); COVID occupied mechanical ventilator beds(MVOccupiedcount) and total admission in England. The source of these data is Public Health England(PHE). These three data are expected to be used to compare the number of hospital admissions with the number of ventilators used, and to compare the total number of diagnoses with the number of hospital admissions"
   ]
  },
  {
   "cell_type": "code",
   "execution_count": 1,
   "id": "42682a37-66ff-4c1a-9135-a43a5e0a392e",
   "metadata": {},
   "outputs": [],
   "source": [
    "#codes to activate ipywidgets library and pandas library to add interactive control and generate graphs.\n",
    "from IPython.display import clear_output\n",
    "import ipywidgets as wdg\n",
    "import pandas as pd\n",
    "import numpy as np\n",
    "import matplotlib.pyplot as plt\n",
    "import json\n",
    "from uk_covid19 import Cov19API\n",
    "\n",
    "%matplotlib inline\n",
    "# control the size of figures\n",
    "plt.rcParams['figure.dpi'] = 100"
   ]
  },
  {
   "cell_type": "code",
   "execution_count": 2,
   "id": "8ba94ff3-eef7-483c-a75c-daa5f78c1e69",
   "metadata": {},
   "outputs": [],
   "source": [
    "#Load Required Data from PHE and stroed thenm in json style\n",
    "from uk_covid19 import Cov19API\n",
    "import json\n",
    "\n",
    "filter=[\n",
    "    'areaType=nation',\n",
    "    'areaName=England'\n",
    "]\n",
    "\n",
    "structure = {\n",
    "    \"date\": \"date\",\n",
    "    \"MVOccupiedcount\": \"covidOccupiedMVBeds\",\n",
    "    \"Totalcases\": \"cumCasesByPublishDate\",\n",
    "    \"AdmissioninHospital\":\"hospitalCases\"\n",
    "}\n",
    "api = Cov19API(filters=filter, structure=structure)\n",
    "admission_data=api.get_json()"
   ]
  },
  {
   "cell_type": "code",
   "execution_count": 3,
   "id": "34773a9d-88e4-4dd2-a572-c7270824c455",
   "metadata": {},
   "outputs": [],
   "source": [
    "# save data in .json file\n",
    "import json\n",
    "with open (\"admission_data.json\", \"wt\") as OUTF:\n",
    "    json.dump(admission_data, OUTF)"
   ]
  },
  {
   "cell_type": "markdown",
   "id": "622c71f3-67ff-418d-b135-b4478510cb59",
   "metadata": {},
   "source": [
    "# Refresh data"
   ]
  },
  {
   "cell_type": "markdown",
   "id": "5b1edab0-5a9d-4977-a060-d291e11ae7eb",
   "metadata": {},
   "source": [
    "Click the following button to update the latest data."
   ]
  },
  {
   "cell_type": "code",
   "execution_count": 4,
   "id": "75d2df01-b4bb-410f-b1f0-45fbd1ff7970",
   "metadata": {},
   "outputs": [
    {
     "data": {
      "application/vnd.jupyter.widget-view+json": {
       "model_id": "e94873af42d7497b8e277717268b7e70",
       "version_major": 2,
       "version_minor": 0
      },
      "text/plain": [
       "Button(description='Refresh data', icon='download', style=ButtonStyle(), tooltip='Click to download current Pu…"
      ]
     },
     "metadata": {},
     "output_type": "display_data"
    }
   ],
   "source": [
    "def access_api(button):\n",
    "    from uk_covid19 import Cov19API\n",
    "    import json\n",
    "    apibutton.icon=\"check\"\n",
    "    apibutton.disabled=True\n",
    "\n",
    "\n",
    "apibutton=wdg.Button(\n",
    "    description='Refresh data',\n",
    "    disabled=False,\n",
    "    button_style='',\n",
    "    tooltip='Click to download current Public Health England data',\n",
    "    icon='download'\n",
    ")\n",
    "\n",
    "apibutton.on_click(access_api)\n",
    "display(apibutton)"
   ]
  },
  {
   "cell_type": "markdown",
   "id": "1e516d76-1fd9-446e-b268-d5874e39d369",
   "metadata": {},
   "source": [
    "# Data Frame"
   ]
  },
  {
   "cell_type": "markdown",
   "id": "1c2c2fc6-443d-4161-bc6b-506ab7112d22",
   "metadata": {},
   "source": [
    "Here is a frame to list the data stored in .json file. The following logarithm graph is generated from this frame."
   ]
  },
  {
   "cell_type": "code",
   "execution_count": 5,
   "id": "34d5a8b9-7ba8-4a21-8212-fada1730fa0c",
   "metadata": {},
   "outputs": [],
   "source": [
    "import json\n",
    "with open(\"admission_data.json\", \"rt\") as infile:\n",
    "    data=json.load(infile)\n",
    "\n",
    "# extract values for the x axis\n",
    "dataDictionary=data['data']\n",
    "dates=[dictionary['date'] for dictionary in dataDictionary]\n",
    "dates.sort()"
   ]
  },
  {
   "cell_type": "code",
   "execution_count": 6,
   "id": "fb0c1ea3-4314-4b77-9e62-c95c16a67c25",
   "metadata": {},
   "outputs": [],
   "source": [
    "def parse_date(datestring):\n",
    "    return pd.to_datetime(datestring, format=\"%Y-%m-%d\")\n",
    "\n",
    "startdate=parse_date(dates[0])\n",
    "enddate=parse_date(dates[-1])  "
   ]
  },
  {
   "cell_type": "code",
   "execution_count": 7,
   "id": "06cb88e1-1166-4589-add3-df7d32b606b2",
   "metadata": {},
   "outputs": [],
   "source": [
    "# create data frame\n",
    "index=pd.date_range(startdate, enddate, freq='D')\n",
    "admissionFrame=pd.DataFrame(index=index, columns=['MVOccupiedcount','AdmissioninHospital','Totalcases'])"
   ]
  },
  {
   "cell_type": "code",
   "execution_count": 8,
   "id": "bf719de8-40a2-4f17-a9a3-d81d9d865a21",
   "metadata": {},
   "outputs": [
    {
     "data": {
      "text/html": [
       "<div>\n",
       "<style scoped>\n",
       "    .dataframe tbody tr th:only-of-type {\n",
       "        vertical-align: middle;\n",
       "    }\n",
       "\n",
       "    .dataframe tbody tr th {\n",
       "        vertical-align: top;\n",
       "    }\n",
       "\n",
       "    .dataframe thead th {\n",
       "        text-align: right;\n",
       "    }\n",
       "</style>\n",
       "<table border=\"1\" class=\"dataframe\">\n",
       "  <thead>\n",
       "    <tr style=\"text-align: right;\">\n",
       "      <th></th>\n",
       "      <th>MVOccupiedcount</th>\n",
       "      <th>AdmissioninHospital</th>\n",
       "      <th>Totalcases</th>\n",
       "    </tr>\n",
       "  </thead>\n",
       "  <tbody>\n",
       "    <tr>\n",
       "      <th>2020-01-31</th>\n",
       "      <td>0.0</td>\n",
       "      <td>0.0</td>\n",
       "      <td>2.0</td>\n",
       "    </tr>\n",
       "    <tr>\n",
       "      <th>2020-02-01</th>\n",
       "      <td>0.0</td>\n",
       "      <td>0.0</td>\n",
       "      <td>2.0</td>\n",
       "    </tr>\n",
       "    <tr>\n",
       "      <th>2020-02-02</th>\n",
       "      <td>0.0</td>\n",
       "      <td>0.0</td>\n",
       "      <td>2.0</td>\n",
       "    </tr>\n",
       "    <tr>\n",
       "      <th>2020-02-03</th>\n",
       "      <td>0.0</td>\n",
       "      <td>0.0</td>\n",
       "      <td>2.0</td>\n",
       "    </tr>\n",
       "    <tr>\n",
       "      <th>2020-02-04</th>\n",
       "      <td>0.0</td>\n",
       "      <td>0.0</td>\n",
       "      <td>2.0</td>\n",
       "    </tr>\n",
       "    <tr>\n",
       "      <th>...</th>\n",
       "      <td>...</td>\n",
       "      <td>...</td>\n",
       "      <td>...</td>\n",
       "    </tr>\n",
       "    <tr>\n",
       "      <th>2023-12-03</th>\n",
       "      <td>0.0</td>\n",
       "      <td>0.0</td>\n",
       "      <td>21011798.0</td>\n",
       "    </tr>\n",
       "    <tr>\n",
       "      <th>2023-12-04</th>\n",
       "      <td>0.0</td>\n",
       "      <td>0.0</td>\n",
       "      <td>21011798.0</td>\n",
       "    </tr>\n",
       "    <tr>\n",
       "      <th>2023-12-05</th>\n",
       "      <td>0.0</td>\n",
       "      <td>0.0</td>\n",
       "      <td>21011798.0</td>\n",
       "    </tr>\n",
       "    <tr>\n",
       "      <th>2023-12-06</th>\n",
       "      <td>0.0</td>\n",
       "      <td>0.0</td>\n",
       "      <td>21011798.0</td>\n",
       "    </tr>\n",
       "    <tr>\n",
       "      <th>2023-12-07</th>\n",
       "      <td>0.0</td>\n",
       "      <td>0.0</td>\n",
       "      <td>21017576.0</td>\n",
       "    </tr>\n",
       "  </tbody>\n",
       "</table>\n",
       "<p>1407 rows × 3 columns</p>\n",
       "</div>"
      ],
      "text/plain": [
       "           MVOccupiedcount AdmissioninHospital  Totalcases\n",
       "2020-01-31             0.0                 0.0         2.0\n",
       "2020-02-01             0.0                 0.0         2.0\n",
       "2020-02-02             0.0                 0.0         2.0\n",
       "2020-02-03             0.0                 0.0         2.0\n",
       "2020-02-04             0.0                 0.0         2.0\n",
       "...                    ...                 ...         ...\n",
       "2023-12-03             0.0                 0.0  21011798.0\n",
       "2023-12-04             0.0                 0.0  21011798.0\n",
       "2023-12-05             0.0                 0.0  21011798.0\n",
       "2023-12-06             0.0                 0.0  21011798.0\n",
       "2023-12-07             0.0                 0.0  21017576.0\n",
       "\n",
       "[1407 rows x 3 columns]"
      ]
     },
     "execution_count": 8,
     "metadata": {},
     "output_type": "execute_result"
    }
   ],
   "source": [
    "# import data\n",
    "for entry in dataDictionary: \n",
    "    date=parse_date(entry['date'])\n",
    "    for column in ['Totalcases','MVOccupiedcount','AdmissioninHospital']:\n",
    "        if pd.isna(admissionFrame.loc[date, column]):\n",
    "            value= float(entry[column]) if entry[column]!=None else 0.0\n",
    "            admissionFrame.loc[date, column]=value\n",
    "            \n",
    "admissionFrame.fillna(0.0, inplace=True)\n",
    "admissionFrame"
   ]
  },
  {
   "cell_type": "markdown",
   "id": "ef778dc9-c0c8-410a-be2c-efc4be063feb",
   "metadata": {},
   "source": [
    "Here is a logarithm graph to display data."
   ]
  },
  {
   "cell_type": "code",
   "execution_count": 9,
   "id": "c5605692-2615-447e-9aed-400326328dff",
   "metadata": {},
   "outputs": [
    {
     "data": {
      "image/png": "[encoded data removed]",
      "text/plain": [
       "<Figure size 640x480 with 1 Axes>"
      ]
     },
     "metadata": {},
     "output_type": "display_data"
    }
   ],
   "source": [
    "admissionFrame.plot(logy=True) \n",
    "admissionFrame.to_pickle(\"admissionFrame.pkl\") #save data to pickle file."
   ]
  },
  {
   "cell_type": "markdown",
   "id": "1777a7fe-efbc-48c6-ae32-1113e3e50ff3",
   "metadata": {},
   "source": [
    "# Graphs and Analysis"
   ]
  },
  {
   "cell_type": "markdown",
   "id": "089e3456-0507-43de-bf87-c113d1f602ad",
   "metadata": {},
   "source": [
    "Description:This part displays the refreshed data in the form of linear graph and logarithmic graph. Users can choose the graph they need according to their needs, and users can also choose to dispay the data which they need.Linear graph can show trends in data to aid comparison. Logarithmic graph can show the relationship between data and help analyze whether there is some correlation between the data.\n",
    "\n",
    "Guidence:In 'Stats', users can select data for graph. When users want to select multiple data, the users need to hold the ‘Ctrl’ key and click on the required data with the mouse. In line charts, it is not recommended to display ‘Total cases’ data together with the other two data. In 'Scale', 'linear' for linear graph, 'log' for logrithmic graph."
   ]
  },
  {
   "cell_type": "code",
   "execution_count": 10,
   "id": "dec2b8d4-1092-4822-aba6-e0121131d41c",
   "metadata": {},
   "outputs": [
    {
     "data": {
      "application/vnd.jupyter.widget-view+json": {
       "model_id": "1f445b7c93df4af6804970db618ff588",
       "version_major": 2,
       "version_minor": 0
      },
      "text/plain": [
       "HBox(children=(SelectMultiple(description='Stats:', index=(0, 1, 2), options=('MVOccupiedcount', 'Totalcases',…"
      ]
     },
     "metadata": {},
     "output_type": "display_data"
    },
    {
     "data": {
      "application/vnd.jupyter.widget-view+json": {
       "model_id": "c5ed1ffaa0524125b11f230db1260bd2",
       "version_major": 2,
       "version_minor": 0
      },
      "text/plain": [
       "Output()"
      ]
     },
     "metadata": {},
     "output_type": "display_data"
    }
   ],
   "source": [
    "series=wdg.SelectMultiple(\n",
    "    options=['MVOccupiedcount', 'Totalcases','AdmissioninHospital'],\n",
    "    value=['MVOccupiedcount', 'Totalcases','AdmissioninHospital'],\n",
    "    rows=3,\n",
    "    description='Stats:',\n",
    "    disabled=False\n",
    ")\n",
    "\n",
    "scale=wdg.RadioButtons(\n",
    "    options=['linear', 'log'],\n",
    "    description='Scale:',\n",
    "    disabled=False\n",
    ")\n",
    "\n",
    "\n",
    "controls=wdg.HBox([series, scale])\n",
    "\n",
    "def admission_graph(gcols, gscale):\n",
    "    if gscale=='linear':\n",
    "        logscale=False\n",
    "    else:\n",
    "        logscale=True\n",
    "    ncols=len(gcols)\n",
    "    if ncols>0:\n",
    "        admissionFrame[list(gcols)].plot(logy=logscale)\n",
    "        plt.show()  \n",
    "    else:\n",
    "        print(\"Click to select data for graph\")\n",
    "        print(\"(CTRL-Click to select more than one category)\")\n",
    "\n",
    "graph=wdg.interactive_output(admission_graph, {'gcols': series, 'gscale': scale})\n",
    "\n",
    "display(controls, graph)"
   ]
  },
  {
   "cell_type": "code",
   "execution_count": null,
   "id": "5a48dd7e-e5cc-4089-b5ce-420d9df0076d",
   "metadata": {},
   "outputs": [],
   "source": []
  }
 ],
 "metadata": {
  "kernelspec": {
   "display_name": "Python 3 (ipykernel)",
   "language": "python",
   "name": "python3"
  },
  "language_info": {
   "codemirror_mode": {
    "name": "ipython",
    "version": 3
   },
   "file_extension": ".py",
   "mimetype": "text/x-python",
   "name": "python",
   "nbconvert_exporter": "python",
   "pygments_lexer": "ipython3",
   "version": "3.10.13"
  }
 },
 "nbformat": 4,
 "nbformat_minor": 5
}
